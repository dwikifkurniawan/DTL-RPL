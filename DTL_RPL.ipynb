{
  "nbformat": 4,
  "nbformat_minor": 0,
  "metadata": {
    "colab": {
      "name": "DTL_RPL.ipynb",
      "provenance": [],
      "collapsed_sections": [],
      "toc_visible": true,
      "include_colab_link": true
    },
    "kernelspec": {
      "name": "python3",
      "display_name": "Python 3"
    },
    "language_info": {
      "name": "python"
    }
  },
  "cells": [
    {
      "cell_type": "markdown",
      "metadata": {
        "id": "view-in-github",
        "colab_type": "text"
      },
      "source": [
        "<a href=\"https://colab.research.google.com/github/dwikifkurniawan/DTL-RPL/blob/main/DTL_RPL.ipynb\" target=\"_parent\"><img src=\"https://colab.research.google.com/assets/colab-badge.svg\" alt=\"Open In Colab\"/></a>"
      ]
    },
    {
      "cell_type": "markdown",
      "metadata": {
        "id": "SKy8UaFDjNcz"
      },
      "source": [
        "### Machine Learning"
      ]
    },
    {
      "cell_type": "markdown",
      "metadata": {
        "id": "eHYI5nn5VRvG"
      },
      "source": [
        "1. Membaca Data Menggunakan Pandas"
      ]
    },
    {
      "cell_type": "code",
      "metadata": {
        "id": "HB4fLBHAU8Hn"
      },
      "source": [
        "import pandas as pd\n",
        "#untuk memanage data kita"
      ],
      "execution_count": null,
      "outputs": []
    },
    {
      "cell_type": "code",
      "metadata": {
        "colab": {
          "base_uri": "https://localhost:8080/",
          "height": 442
        },
        "id": "E2_DpRjJUGiL",
        "outputId": "5f24b237-0411-4889-f590-8211e03ba142"
      },
      "source": [
        "data_path = \"/content/drive/MyDrive/RPL TUBES/tes2.csv\"\n",
        "#membaca data dari data_path\n",
        "df = pd.read_csv(data_path)\n",
        "#menampilkan jumlah data\n",
        "print(\"Jml data: \", df.shape[0])\n",
        "#menampilkan 5 data teratas\n",
        "df"
      ],
      "execution_count": null,
      "outputs": [
        {
          "output_type": "stream",
          "text": [
            "Jml data:  80\n"
          ],
          "name": "stdout"
        },
        {
          "output_type": "execute_result",
          "data": {
            "text/html": [
              "<div>\n",
              "<style scoped>\n",
              "    .dataframe tbody tr th:only-of-type {\n",
              "        vertical-align: middle;\n",
              "    }\n",
              "\n",
              "    .dataframe tbody tr th {\n",
              "        vertical-align: top;\n",
              "    }\n",
              "\n",
              "    .dataframe thead th {\n",
              "        text-align: right;\n",
              "    }\n",
              "</style>\n",
              "<table border=\"1\" class=\"dataframe\">\n",
              "  <thead>\n",
              "    <tr style=\"text-align: right;\">\n",
              "      <th></th>\n",
              "      <th>harga</th>\n",
              "      <th>kategori</th>\n",
              "      <th>release</th>\n",
              "      <th>label</th>\n",
              "    </tr>\n",
              "  </thead>\n",
              "  <tbody>\n",
              "    <tr>\n",
              "      <th>0</th>\n",
              "      <td>5000000</td>\n",
              "      <td>1</td>\n",
              "      <td>33</td>\n",
              "      <td>tidak</td>\n",
              "    </tr>\n",
              "    <tr>\n",
              "      <th>1</th>\n",
              "      <td>2899000</td>\n",
              "      <td>1</td>\n",
              "      <td>33</td>\n",
              "      <td>tidak</td>\n",
              "    </tr>\n",
              "    <tr>\n",
              "      <th>2</th>\n",
              "      <td>2899000</td>\n",
              "      <td>1</td>\n",
              "      <td>3</td>\n",
              "      <td>tidak</td>\n",
              "    </tr>\n",
              "    <tr>\n",
              "      <th>3</th>\n",
              "      <td>2600000</td>\n",
              "      <td>1</td>\n",
              "      <td>28</td>\n",
              "      <td>tidak</td>\n",
              "    </tr>\n",
              "    <tr>\n",
              "      <th>4</th>\n",
              "      <td>1449000</td>\n",
              "      <td>1</td>\n",
              "      <td>50</td>\n",
              "      <td>ya</td>\n",
              "    </tr>\n",
              "    <tr>\n",
              "      <th>...</th>\n",
              "      <td>...</td>\n",
              "      <td>...</td>\n",
              "      <td>...</td>\n",
              "      <td>...</td>\n",
              "    </tr>\n",
              "    <tr>\n",
              "      <th>75</th>\n",
              "      <td>2330000</td>\n",
              "      <td>4</td>\n",
              "      <td>26</td>\n",
              "      <td>tidak</td>\n",
              "    </tr>\n",
              "    <tr>\n",
              "      <th>76</th>\n",
              "      <td>910000</td>\n",
              "      <td>4</td>\n",
              "      <td>11</td>\n",
              "      <td>tidak</td>\n",
              "    </tr>\n",
              "    <tr>\n",
              "      <th>77</th>\n",
              "      <td>599000</td>\n",
              "      <td>4</td>\n",
              "      <td>43</td>\n",
              "      <td>tidak</td>\n",
              "    </tr>\n",
              "    <tr>\n",
              "      <th>78</th>\n",
              "      <td>1110000</td>\n",
              "      <td>4</td>\n",
              "      <td>30</td>\n",
              "      <td>tidak</td>\n",
              "    </tr>\n",
              "    <tr>\n",
              "      <th>79</th>\n",
              "      <td>1330000</td>\n",
              "      <td>4</td>\n",
              "      <td>18</td>\n",
              "      <td>tidak</td>\n",
              "    </tr>\n",
              "  </tbody>\n",
              "</table>\n",
              "<p>80 rows × 4 columns</p>\n",
              "</div>"
            ],
            "text/plain": [
              "      harga  kategori  release  label\n",
              "0   5000000         1       33  tidak\n",
              "1   2899000         1       33  tidak\n",
              "2   2899000         1        3  tidak\n",
              "3   2600000         1       28  tidak\n",
              "4   1449000         1       50     ya\n",
              "..      ...       ...      ...    ...\n",
              "75  2330000         4       26  tidak\n",
              "76   910000         4       11  tidak\n",
              "77   599000         4       43  tidak\n",
              "78  1110000         4       30  tidak\n",
              "79  1330000         4       18  tidak\n",
              "\n",
              "[80 rows x 4 columns]"
            ]
          },
          "metadata": {
            "tags": []
          },
          "execution_count": 68
        }
      ]
    },
    {
      "cell_type": "markdown",
      "metadata": {
        "id": "EhPJ_YSXZe5v"
      },
      "source": [
        "2. Encode Label menjadi Integer"
      ]
    },
    {
      "cell_type": "code",
      "metadata": {
        "colab": {
          "base_uri": "https://localhost:8080/"
        },
        "id": "CNjMf7JbXFsY",
        "outputId": "ef008b98-51bf-4b89-e677-3ed03c4e1d94"
      },
      "source": [
        "#import SKLEARN Preprocessing\n",
        "from sklearn import preprocessing\n",
        "\n",
        "#Encode label kita menjadi bilangan integer\n",
        "\n",
        "#label itu target dijadikan sebagai output\n",
        "le = preprocessing.LabelEncoder()\n",
        "le.fit(df.label)\n",
        "Y = le.transform(df.label)\n",
        "he = preprocessing.LabelEncoder()\n",
        "he.fit(df.kategori)\n",
        "Z = he.transform(df.kategori)\n",
        "Z"
      ],
      "execution_count": null,
      "outputs": [
        {
          "output_type": "execute_result",
          "data": {
            "text/plain": [
              "array([0, 0, 0, 0, 0, 0, 0, 0, 0, 0, 0, 0, 0, 0, 0, 0, 0, 0, 0, 0, 1, 1,\n",
              "       1, 1, 1, 1, 1, 1, 1, 1, 1, 1, 1, 1, 1, 1, 1, 1, 1, 1, 2, 2, 2, 2,\n",
              "       2, 2, 2, 2, 2, 2, 2, 2, 2, 2, 2, 2, 2, 2, 2, 2, 3, 3, 3, 3, 3, 3,\n",
              "       3, 3, 3, 3, 3, 3, 3, 3, 3, 3, 3, 3, 3, 3])"
            ]
          },
          "metadata": {
            "tags": []
          },
          "execution_count": 69
        }
      ]
    },
    {
      "cell_type": "code",
      "metadata": {
        "colab": {
          "base_uri": "https://localhost:8080/"
        },
        "id": "Bn7Uw4sHYfmy",
        "outputId": "dd602a12-4ba7-4cf7-ed40-6416f399cd3f"
      },
      "source": [
        "#menampilkan\n",
        "list(le.classes_)"
      ],
      "execution_count": null,
      "outputs": [
        {
          "output_type": "execute_result",
          "data": {
            "text/plain": [
              "['tidak', 'ya']"
            ]
          },
          "metadata": {
            "tags": []
          },
          "execution_count": 70
        }
      ]
    },
    {
      "cell_type": "markdown",
      "metadata": {
        "id": "KNq7ICe1Y1Rv"
      },
      "source": [
        "3. Hapus kolom label dari data\n"
      ]
    },
    {
      "cell_type": "code",
      "metadata": {
        "colab": {
          "base_uri": "https://localhost:8080/",
          "height": 424
        },
        "id": "QmdXRSy4Y48m",
        "outputId": "a35db252-111e-459c-c0d0-acaeffe3af18"
      },
      "source": [
        "X = df.drop(\"label\", axis=1)\n",
        "X"
      ],
      "execution_count": null,
      "outputs": [
        {
          "output_type": "execute_result",
          "data": {
            "text/html": [
              "<div>\n",
              "<style scoped>\n",
              "    .dataframe tbody tr th:only-of-type {\n",
              "        vertical-align: middle;\n",
              "    }\n",
              "\n",
              "    .dataframe tbody tr th {\n",
              "        vertical-align: top;\n",
              "    }\n",
              "\n",
              "    .dataframe thead th {\n",
              "        text-align: right;\n",
              "    }\n",
              "</style>\n",
              "<table border=\"1\" class=\"dataframe\">\n",
              "  <thead>\n",
              "    <tr style=\"text-align: right;\">\n",
              "      <th></th>\n",
              "      <th>harga</th>\n",
              "      <th>kategori</th>\n",
              "      <th>release</th>\n",
              "    </tr>\n",
              "  </thead>\n",
              "  <tbody>\n",
              "    <tr>\n",
              "      <th>0</th>\n",
              "      <td>5000000</td>\n",
              "      <td>1</td>\n",
              "      <td>33</td>\n",
              "    </tr>\n",
              "    <tr>\n",
              "      <th>1</th>\n",
              "      <td>2899000</td>\n",
              "      <td>1</td>\n",
              "      <td>33</td>\n",
              "    </tr>\n",
              "    <tr>\n",
              "      <th>2</th>\n",
              "      <td>2899000</td>\n",
              "      <td>1</td>\n",
              "      <td>3</td>\n",
              "    </tr>\n",
              "    <tr>\n",
              "      <th>3</th>\n",
              "      <td>2600000</td>\n",
              "      <td>1</td>\n",
              "      <td>28</td>\n",
              "    </tr>\n",
              "    <tr>\n",
              "      <th>4</th>\n",
              "      <td>1449000</td>\n",
              "      <td>1</td>\n",
              "      <td>50</td>\n",
              "    </tr>\n",
              "    <tr>\n",
              "      <th>...</th>\n",
              "      <td>...</td>\n",
              "      <td>...</td>\n",
              "      <td>...</td>\n",
              "    </tr>\n",
              "    <tr>\n",
              "      <th>75</th>\n",
              "      <td>2330000</td>\n",
              "      <td>4</td>\n",
              "      <td>26</td>\n",
              "    </tr>\n",
              "    <tr>\n",
              "      <th>76</th>\n",
              "      <td>910000</td>\n",
              "      <td>4</td>\n",
              "      <td>11</td>\n",
              "    </tr>\n",
              "    <tr>\n",
              "      <th>77</th>\n",
              "      <td>599000</td>\n",
              "      <td>4</td>\n",
              "      <td>43</td>\n",
              "    </tr>\n",
              "    <tr>\n",
              "      <th>78</th>\n",
              "      <td>1110000</td>\n",
              "      <td>4</td>\n",
              "      <td>30</td>\n",
              "    </tr>\n",
              "    <tr>\n",
              "      <th>79</th>\n",
              "      <td>1330000</td>\n",
              "      <td>4</td>\n",
              "      <td>18</td>\n",
              "    </tr>\n",
              "  </tbody>\n",
              "</table>\n",
              "<p>80 rows × 3 columns</p>\n",
              "</div>"
            ],
            "text/plain": [
              "      harga  kategori  release\n",
              "0   5000000         1       33\n",
              "1   2899000         1       33\n",
              "2   2899000         1        3\n",
              "3   2600000         1       28\n",
              "4   1449000         1       50\n",
              "..      ...       ...      ...\n",
              "75  2330000         4       26\n",
              "76   910000         4       11\n",
              "77   599000         4       43\n",
              "78  1110000         4       30\n",
              "79  1330000         4       18\n",
              "\n",
              "[80 rows x 3 columns]"
            ]
          },
          "metadata": {
            "tags": []
          },
          "execution_count": 71
        }
      ]
    },
    {
      "cell_type": "markdown",
      "metadata": {
        "id": "3VQOAPScZGvX"
      },
      "source": [
        "4. Bagi data menjadi Train Data dan Test Data"
      ]
    },
    {
      "cell_type": "code",
      "metadata": {
        "colab": {
          "base_uri": "https://localhost:8080/",
          "height": 802
        },
        "id": "GlUMPPEoZLcv",
        "outputId": "3407776d-3710-4427-b78b-255eeb13cc1c"
      },
      "source": [
        "#import library SKLEARN Train-test split\n",
        "from sklearn.model_selection import train_test_split\n",
        "\n",
        "#bagi data\n",
        "#train = input training\n",
        "#test = input testnya\n",
        "#X = input\n",
        "#Y = Label\n",
        "X_train, X_test, Y_train, Y_test = train_test_split(X,Y,test_size=0.3,random_state=123, stratify = df[[\"kategori\", \"label\"]])\n",
        "#Stratify = membagi merata\n",
        "X_test #menampilkan X/Y test"
      ],
      "execution_count": null,
      "outputs": [
        {
          "output_type": "execute_result",
          "data": {
            "text/html": [
              "<div>\n",
              "<style scoped>\n",
              "    .dataframe tbody tr th:only-of-type {\n",
              "        vertical-align: middle;\n",
              "    }\n",
              "\n",
              "    .dataframe tbody tr th {\n",
              "        vertical-align: top;\n",
              "    }\n",
              "\n",
              "    .dataframe thead th {\n",
              "        text-align: right;\n",
              "    }\n",
              "</style>\n",
              "<table border=\"1\" class=\"dataframe\">\n",
              "  <thead>\n",
              "    <tr style=\"text-align: right;\">\n",
              "      <th></th>\n",
              "      <th>harga</th>\n",
              "      <th>kategori</th>\n",
              "      <th>release</th>\n",
              "    </tr>\n",
              "  </thead>\n",
              "  <tbody>\n",
              "    <tr>\n",
              "      <th>5</th>\n",
              "      <td>1160000</td>\n",
              "      <td>1</td>\n",
              "      <td>50</td>\n",
              "    </tr>\n",
              "    <tr>\n",
              "      <th>2</th>\n",
              "      <td>2899000</td>\n",
              "      <td>1</td>\n",
              "      <td>3</td>\n",
              "    </tr>\n",
              "    <tr>\n",
              "      <th>48</th>\n",
              "      <td>840000</td>\n",
              "      <td>3</td>\n",
              "      <td>40</td>\n",
              "    </tr>\n",
              "    <tr>\n",
              "      <th>24</th>\n",
              "      <td>2090000</td>\n",
              "      <td>2</td>\n",
              "      <td>5</td>\n",
              "    </tr>\n",
              "    <tr>\n",
              "      <th>30</th>\n",
              "      <td>2630000</td>\n",
              "      <td>2</td>\n",
              "      <td>18</td>\n",
              "    </tr>\n",
              "    <tr>\n",
              "      <th>64</th>\n",
              "      <td>187000</td>\n",
              "      <td>4</td>\n",
              "      <td>31</td>\n",
              "    </tr>\n",
              "    <tr>\n",
              "      <th>46</th>\n",
              "      <td>1350000</td>\n",
              "      <td>3</td>\n",
              "      <td>30</td>\n",
              "    </tr>\n",
              "    <tr>\n",
              "      <th>9</th>\n",
              "      <td>1014000</td>\n",
              "      <td>1</td>\n",
              "      <td>4</td>\n",
              "    </tr>\n",
              "    <tr>\n",
              "      <th>50</th>\n",
              "      <td>1499000</td>\n",
              "      <td>3</td>\n",
              "      <td>15</td>\n",
              "    </tr>\n",
              "    <tr>\n",
              "      <th>25</th>\n",
              "      <td>750000</td>\n",
              "      <td>2</td>\n",
              "      <td>26</td>\n",
              "    </tr>\n",
              "    <tr>\n",
              "      <th>69</th>\n",
              "      <td>175000</td>\n",
              "      <td>4</td>\n",
              "      <td>192</td>\n",
              "    </tr>\n",
              "    <tr>\n",
              "      <th>57</th>\n",
              "      <td>2850000</td>\n",
              "      <td>3</td>\n",
              "      <td>13</td>\n",
              "    </tr>\n",
              "    <tr>\n",
              "      <th>39</th>\n",
              "      <td>3332000</td>\n",
              "      <td>2</td>\n",
              "      <td>3</td>\n",
              "    </tr>\n",
              "    <tr>\n",
              "      <th>75</th>\n",
              "      <td>2330000</td>\n",
              "      <td>4</td>\n",
              "      <td>26</td>\n",
              "    </tr>\n",
              "    <tr>\n",
              "      <th>66</th>\n",
              "      <td>471000</td>\n",
              "      <td>4</td>\n",
              "      <td>31</td>\n",
              "    </tr>\n",
              "    <tr>\n",
              "      <th>45</th>\n",
              "      <td>975000</td>\n",
              "      <td>3</td>\n",
              "      <td>14</td>\n",
              "    </tr>\n",
              "    <tr>\n",
              "      <th>73</th>\n",
              "      <td>1590000</td>\n",
              "      <td>4</td>\n",
              "      <td>26</td>\n",
              "    </tr>\n",
              "    <tr>\n",
              "      <th>19</th>\n",
              "      <td>1290000</td>\n",
              "      <td>1</td>\n",
              "      <td>28</td>\n",
              "    </tr>\n",
              "    <tr>\n",
              "      <th>51</th>\n",
              "      <td>899000</td>\n",
              "      <td>3</td>\n",
              "      <td>2</td>\n",
              "    </tr>\n",
              "    <tr>\n",
              "      <th>15</th>\n",
              "      <td>4490000</td>\n",
              "      <td>1</td>\n",
              "      <td>23</td>\n",
              "    </tr>\n",
              "    <tr>\n",
              "      <th>36</th>\n",
              "      <td>2899000</td>\n",
              "      <td>2</td>\n",
              "      <td>30</td>\n",
              "    </tr>\n",
              "    <tr>\n",
              "      <th>33</th>\n",
              "      <td>3220000</td>\n",
              "      <td>2</td>\n",
              "      <td>18</td>\n",
              "    </tr>\n",
              "    <tr>\n",
              "      <th>4</th>\n",
              "      <td>1449000</td>\n",
              "      <td>1</td>\n",
              "      <td>50</td>\n",
              "    </tr>\n",
              "    <tr>\n",
              "      <th>70</th>\n",
              "      <td>1010000</td>\n",
              "      <td>4</td>\n",
              "      <td>44</td>\n",
              "    </tr>\n",
              "  </tbody>\n",
              "</table>\n",
              "</div>"
            ],
            "text/plain": [
              "      harga  kategori  release\n",
              "5   1160000         1       50\n",
              "2   2899000         1        3\n",
              "48   840000         3       40\n",
              "24  2090000         2        5\n",
              "30  2630000         2       18\n",
              "64   187000         4       31\n",
              "46  1350000         3       30\n",
              "9   1014000         1        4\n",
              "50  1499000         3       15\n",
              "25   750000         2       26\n",
              "69   175000         4      192\n",
              "57  2850000         3       13\n",
              "39  3332000         2        3\n",
              "75  2330000         4       26\n",
              "66   471000         4       31\n",
              "45   975000         3       14\n",
              "73  1590000         4       26\n",
              "19  1290000         1       28\n",
              "51   899000         3        2\n",
              "15  4490000         1       23\n",
              "36  2899000         2       30\n",
              "33  3220000         2       18\n",
              "4   1449000         1       50\n",
              "70  1010000         4       44"
            ]
          },
          "metadata": {
            "tags": []
          },
          "execution_count": 125
        }
      ]
    },
    {
      "cell_type": "markdown",
      "metadata": {
        "id": "JbAQUoX8cBWR"
      },
      "source": [
        "5. Lakukan Klafisikasikan dengan DTL"
      ]
    },
    {
      "cell_type": "markdown",
      "metadata": {
        "id": "ALkMkOyNcH4g"
      },
      "source": [
        "5.1 Buat Model DTL dengan lakukan training"
      ]
    },
    {
      "cell_type": "code",
      "metadata": {
        "colab": {
          "base_uri": "https://localhost:8080/"
        },
        "id": "Q3I8UqjwcMCZ",
        "outputId": "755a11a1-f285-40cc-a4ff-863e15b454a6"
      },
      "source": [
        "#import model DTL\n",
        "from sklearn.tree import DecisionTreeClassifier, export_graphviz\n",
        "\n",
        "#Buat model\n",
        "#masih kosong\n",
        "model = DecisionTreeClassifier(random_state=1234)\n",
        "\n",
        "#melakukan trainingnya\n",
        "model.fit(X_train, Y_train)"
      ],
      "execution_count": null,
      "outputs": [
        {
          "output_type": "execute_result",
          "data": {
            "text/plain": [
              "DecisionTreeClassifier(ccp_alpha=0.0, class_weight=None, criterion='gini',\n",
              "                       max_depth=None, max_features=None, max_leaf_nodes=None,\n",
              "                       min_impurity_decrease=0.0, min_impurity_split=None,\n",
              "                       min_samples_leaf=1, min_samples_split=2,\n",
              "                       min_weight_fraction_leaf=0.0, presort='deprecated',\n",
              "                       random_state=1234, splitter='best')"
            ]
          },
          "metadata": {
            "tags": []
          },
          "execution_count": 126
        }
      ]
    },
    {
      "cell_type": "code",
      "metadata": {
        "colab": {
          "base_uri": "https://localhost:8080/",
          "height": 1000
        },
        "id": "siydc4Hjc8Mc",
        "outputId": "7195b950-bf37-45af-aab4-489453a26e2e"
      },
      "source": [
        "#Memvisualisasikan\n",
        "import graphviz\n",
        "#export model ke bentuk graphiz\n",
        "dot_data = export_graphviz(model,feature_names=list(X.columns),#ngasih nama kolom dari data x kita\n",
        "                           class_names=list(le.classes_),#namanya dari list\n",
        "                           filled = True)\n",
        "\n",
        "#Draw graph\n",
        "graph = graphviz.Source(dot_data, format=\"png\")\n",
        "graph"
      ],
      "execution_count": null,
      "outputs": [
        {
          "output_type": "execute_result",
          "data": {
            "text/plain": [
              "<graphviz.files.Source at 0x7f64e9eba0d0>"
            ],
            "image/svg+xml": "<?xml version=\"1.0\" encoding=\"UTF-8\" standalone=\"no\"?>\n<!DOCTYPE svg PUBLIC \"-//W3C//DTD SVG 1.1//EN\"\n \"http://www.w3.org/Graphics/SVG/1.1/DTD/svg11.dtd\">\n<!-- Generated by graphviz version 2.40.1 (20161225.0304)\n -->\n<!-- Title: Tree Pages: 1 -->\n<svg width=\"978pt\" height=\"1147pt\"\n viewBox=\"0.00 0.00 978.00 1147.00\" xmlns=\"http://www.w3.org/2000/svg\" xmlns:xlink=\"http://www.w3.org/1999/xlink\">\n<g id=\"graph0\" class=\"graph\" transform=\"scale(1 1) rotate(0) translate(4 1143)\">\n<title>Tree</title>\n<polygon fill=\"#ffffff\" stroke=\"transparent\" points=\"-4,4 -4,-1143 974,-1143 974,4 -4,4\"/>\n<!-- 0 -->\n<g id=\"node1\" class=\"node\">\n<title>0</title>\n<polygon fill=\"#ffffff\" stroke=\"#000000\" points=\"807.5,-1139 671.5,-1139 671.5,-1056 807.5,-1056 807.5,-1139\"/>\n<text text-anchor=\"middle\" x=\"739.5\" y=\"-1123.8\" font-family=\"Times,serif\" font-size=\"14.00\" fill=\"#000000\">harga &lt;= 1865000.0</text>\n<text text-anchor=\"middle\" x=\"739.5\" y=\"-1108.8\" font-family=\"Times,serif\" font-size=\"14.00\" fill=\"#000000\">gini = 0.5</text>\n<text text-anchor=\"middle\" x=\"739.5\" y=\"-1093.8\" font-family=\"Times,serif\" font-size=\"14.00\" fill=\"#000000\">samples = 56</text>\n<text text-anchor=\"middle\" x=\"739.5\" y=\"-1078.8\" font-family=\"Times,serif\" font-size=\"14.00\" fill=\"#000000\">value = [28, 28]</text>\n<text text-anchor=\"middle\" x=\"739.5\" y=\"-1063.8\" font-family=\"Times,serif\" font-size=\"14.00\" fill=\"#000000\">class = tidak</text>\n</g>\n<!-- 1 -->\n<g id=\"node2\" class=\"node\">\n<title>1</title>\n<polygon fill=\"#8dc6f0\" stroke=\"#000000\" points=\"666,-1020 557,-1020 557,-937 666,-937 666,-1020\"/>\n<text text-anchor=\"middle\" x=\"611.5\" y=\"-1004.8\" font-family=\"Times,serif\" font-size=\"14.00\" fill=\"#000000\">release &lt;= 26.5</text>\n<text text-anchor=\"middle\" x=\"611.5\" y=\"-989.8\" font-family=\"Times,serif\" font-size=\"14.00\" fill=\"#000000\">gini = 0.418</text>\n<text text-anchor=\"middle\" x=\"611.5\" y=\"-974.8\" font-family=\"Times,serif\" font-size=\"14.00\" fill=\"#000000\">samples = 37</text>\n<text text-anchor=\"middle\" x=\"611.5\" y=\"-959.8\" font-family=\"Times,serif\" font-size=\"14.00\" fill=\"#000000\">value = [11, 26]</text>\n<text text-anchor=\"middle\" x=\"611.5\" y=\"-944.8\" font-family=\"Times,serif\" font-size=\"14.00\" fill=\"#000000\">class = ya</text>\n</g>\n<!-- 0&#45;&gt;1 -->\n<g id=\"edge1\" class=\"edge\">\n<title>0&#45;&gt;1</title>\n<path fill=\"none\" stroke=\"#000000\" d=\"M694.7318,-1055.8796C684.7537,-1046.6031 674.0881,-1036.6874 663.8358,-1027.1559\"/>\n<polygon fill=\"#000000\" stroke=\"#000000\" points=\"666.1663,-1024.5436 656.4593,-1020.2981 661.4,-1029.6704 666.1663,-1024.5436\"/>\n<text text-anchor=\"middle\" x=\"657.3696\" y=\"-1041.5815\" font-family=\"Times,serif\" font-size=\"14.00\" fill=\"#000000\">True</text>\n</g>\n<!-- 24 -->\n<g id=\"node25\" class=\"node\">\n<title>24</title>\n<polygon fill=\"#e89050\" stroke=\"#000000\" points=\"856.5,-1020 752.5,-1020 752.5,-937 856.5,-937 856.5,-1020\"/>\n<text text-anchor=\"middle\" x=\"804.5\" y=\"-1004.8\" font-family=\"Times,serif\" font-size=\"14.00\" fill=\"#000000\">release &lt;= 18.5</text>\n<text text-anchor=\"middle\" x=\"804.5\" y=\"-989.8\" font-family=\"Times,serif\" font-size=\"14.00\" fill=\"#000000\">gini = 0.188</text>\n<text text-anchor=\"middle\" x=\"804.5\" y=\"-974.8\" font-family=\"Times,serif\" font-size=\"14.00\" fill=\"#000000\">samples = 19</text>\n<text text-anchor=\"middle\" x=\"804.5\" y=\"-959.8\" font-family=\"Times,serif\" font-size=\"14.00\" fill=\"#000000\">value = [17, 2]</text>\n<text text-anchor=\"middle\" x=\"804.5\" y=\"-944.8\" font-family=\"Times,serif\" font-size=\"14.00\" fill=\"#000000\">class = tidak</text>\n</g>\n<!-- 0&#45;&gt;24 -->\n<g id=\"edge24\" class=\"edge\">\n<title>0&#45;&gt;24</title>\n<path fill=\"none\" stroke=\"#000000\" d=\"M762.2338,-1055.8796C766.9565,-1047.2335 771.9824,-1038.0322 776.859,-1029.1042\"/>\n<polygon fill=\"#000000\" stroke=\"#000000\" points=\"779.947,-1030.752 781.6691,-1020.2981 773.8037,-1027.3964 779.947,-1030.752\"/>\n<text text-anchor=\"middle\" x=\"788.7092\" y=\"-1040.5864\" font-family=\"Times,serif\" font-size=\"14.00\" fill=\"#000000\">False</text>\n</g>\n<!-- 2 -->\n<g id=\"node3\" class=\"node\">\n<title>2</title>\n<polygon fill=\"#ffffff\" stroke=\"#000000\" points=\"477.5,-901 371.5,-901 371.5,-818 477.5,-818 477.5,-901\"/>\n<text text-anchor=\"middle\" x=\"424.5\" y=\"-885.8\" font-family=\"Times,serif\" font-size=\"14.00\" fill=\"#000000\">kategori &lt;= 3.5</text>\n<text text-anchor=\"middle\" x=\"424.5\" y=\"-870.8\" font-family=\"Times,serif\" font-size=\"14.00\" fill=\"#000000\">gini = 0.5</text>\n<text text-anchor=\"middle\" x=\"424.5\" y=\"-855.8\" font-family=\"Times,serif\" font-size=\"14.00\" fill=\"#000000\">samples = 18</text>\n<text text-anchor=\"middle\" x=\"424.5\" y=\"-840.8\" font-family=\"Times,serif\" font-size=\"14.00\" fill=\"#000000\">value = [9, 9]</text>\n<text text-anchor=\"middle\" x=\"424.5\" y=\"-825.8\" font-family=\"Times,serif\" font-size=\"14.00\" fill=\"#000000\">class = tidak</text>\n</g>\n<!-- 1&#45;&gt;2 -->\n<g id=\"edge2\" class=\"edge\">\n<title>1&#45;&gt;2</title>\n<path fill=\"none\" stroke=\"#000000\" d=\"M556.9092,-943.7604C534.7319,-929.6476 509,-913.2727 486.1503,-898.732\"/>\n<polygon fill=\"#000000\" stroke=\"#000000\" points=\"487.8632,-895.6735 477.5475,-893.2575 484.105,-901.5791 487.8632,-895.6735\"/>\n</g>\n<!-- 19 -->\n<g id=\"node20\" class=\"node\">\n<title>19</title>\n<polygon fill=\"#50a9e8\" stroke=\"#000000\" points=\"664.5,-901 558.5,-901 558.5,-818 664.5,-818 664.5,-901\"/>\n<text text-anchor=\"middle\" x=\"611.5\" y=\"-885.8\" font-family=\"Times,serif\" font-size=\"14.00\" fill=\"#000000\">kategori &lt;= 3.5</text>\n<text text-anchor=\"middle\" x=\"611.5\" y=\"-870.8\" font-family=\"Times,serif\" font-size=\"14.00\" fill=\"#000000\">gini = 0.188</text>\n<text text-anchor=\"middle\" x=\"611.5\" y=\"-855.8\" font-family=\"Times,serif\" font-size=\"14.00\" fill=\"#000000\">samples = 19</text>\n<text text-anchor=\"middle\" x=\"611.5\" y=\"-840.8\" font-family=\"Times,serif\" font-size=\"14.00\" fill=\"#000000\">value = [2, 17]</text>\n<text text-anchor=\"middle\" x=\"611.5\" y=\"-825.8\" font-family=\"Times,serif\" font-size=\"14.00\" fill=\"#000000\">class = ya</text>\n</g>\n<!-- 1&#45;&gt;19 -->\n<g id=\"edge19\" class=\"edge\">\n<title>1&#45;&gt;19</title>\n<path fill=\"none\" stroke=\"#000000\" d=\"M611.5,-936.8796C611.5,-928.6838 611.5,-919.9891 611.5,-911.5013\"/>\n<polygon fill=\"#000000\" stroke=\"#000000\" points=\"615.0001,-911.298 611.5,-901.2981 608.0001,-911.2981 615.0001,-911.298\"/>\n</g>\n<!-- 3 -->\n<g id=\"node4\" class=\"node\">\n<title>3</title>\n<polygon fill=\"#a7d3f3\" stroke=\"#000000\" points=\"359,-782 262,-782 262,-699 359,-699 359,-782\"/>\n<text text-anchor=\"middle\" x=\"310.5\" y=\"-766.8\" font-family=\"Times,serif\" font-size=\"14.00\" fill=\"#000000\">release &lt;= 2.5</text>\n<text text-anchor=\"middle\" x=\"310.5\" y=\"-751.8\" font-family=\"Times,serif\" font-size=\"14.00\" fill=\"#000000\">gini = 0.459</text>\n<text text-anchor=\"middle\" x=\"310.5\" y=\"-736.8\" font-family=\"Times,serif\" font-size=\"14.00\" fill=\"#000000\">samples = 14</text>\n<text text-anchor=\"middle\" x=\"310.5\" y=\"-721.8\" font-family=\"Times,serif\" font-size=\"14.00\" fill=\"#000000\">value = [5, 9]</text>\n<text text-anchor=\"middle\" x=\"310.5\" y=\"-706.8\" font-family=\"Times,serif\" font-size=\"14.00\" fill=\"#000000\">class = ya</text>\n</g>\n<!-- 2&#45;&gt;3 -->\n<g id=\"edge3\" class=\"edge\">\n<title>2&#45;&gt;3</title>\n<path fill=\"none\" stroke=\"#000000\" d=\"M384.6283,-817.8796C375.9142,-808.7832 366.6112,-799.0722 357.6438,-789.7116\"/>\n<polygon fill=\"#000000\" stroke=\"#000000\" points=\"359.987,-787.098 350.5419,-782.2981 354.9322,-791.9405 359.987,-787.098\"/>\n</g>\n<!-- 18 -->\n<g id=\"node19\" class=\"node\">\n<title>18</title>\n<polygon fill=\"#e58139\" stroke=\"#000000\" points=\"472,-774.5 377,-774.5 377,-706.5 472,-706.5 472,-774.5\"/>\n<text text-anchor=\"middle\" x=\"424.5\" y=\"-759.3\" font-family=\"Times,serif\" font-size=\"14.00\" fill=\"#000000\">gini = 0.0</text>\n<text text-anchor=\"middle\" x=\"424.5\" y=\"-744.3\" font-family=\"Times,serif\" font-size=\"14.00\" fill=\"#000000\">samples = 4</text>\n<text text-anchor=\"middle\" x=\"424.5\" y=\"-729.3\" font-family=\"Times,serif\" font-size=\"14.00\" fill=\"#000000\">value = [4, 0]</text>\n<text text-anchor=\"middle\" x=\"424.5\" y=\"-714.3\" font-family=\"Times,serif\" font-size=\"14.00\" fill=\"#000000\">class = tidak</text>\n</g>\n<!-- 2&#45;&gt;18 -->\n<g id=\"edge18\" class=\"edge\">\n<title>2&#45;&gt;18</title>\n<path fill=\"none\" stroke=\"#000000\" d=\"M424.5,-817.8796C424.5,-807.2134 424.5,-795.7021 424.5,-784.9015\"/>\n<polygon fill=\"#000000\" stroke=\"#000000\" points=\"428.0001,-784.8149 424.5,-774.8149 421.0001,-784.815 428.0001,-784.8149\"/>\n</g>\n<!-- 4 -->\n<g id=\"node5\" class=\"node\">\n<title>4</title>\n<polygon fill=\"#e58139\" stroke=\"#000000\" points=\"299,-655.5 204,-655.5 204,-587.5 299,-587.5 299,-655.5\"/>\n<text text-anchor=\"middle\" x=\"251.5\" y=\"-640.3\" font-family=\"Times,serif\" font-size=\"14.00\" fill=\"#000000\">gini = 0.0</text>\n<text text-anchor=\"middle\" x=\"251.5\" y=\"-625.3\" font-family=\"Times,serif\" font-size=\"14.00\" fill=\"#000000\">samples = 2</text>\n<text text-anchor=\"middle\" x=\"251.5\" y=\"-610.3\" font-family=\"Times,serif\" font-size=\"14.00\" fill=\"#000000\">value = [2, 0]</text>\n<text text-anchor=\"middle\" x=\"251.5\" y=\"-595.3\" font-family=\"Times,serif\" font-size=\"14.00\" fill=\"#000000\">class = tidak</text>\n</g>\n<!-- 3&#45;&gt;4 -->\n<g id=\"edge4\" class=\"edge\">\n<title>3&#45;&gt;4</title>\n<path fill=\"none\" stroke=\"#000000\" d=\"M289.8647,-698.8796C284.4128,-687.8835 278.5157,-675.9893 273.0184,-664.9015\"/>\n<polygon fill=\"#000000\" stroke=\"#000000\" points=\"276.0911,-663.2195 268.5133,-655.8149 269.8196,-666.3289 276.0911,-663.2195\"/>\n</g>\n<!-- 5 -->\n<g id=\"node6\" class=\"node\">\n<title>5</title>\n<polygon fill=\"#7bbeee\" stroke=\"#000000\" points=\"421.5,-663 317.5,-663 317.5,-580 421.5,-580 421.5,-663\"/>\n<text text-anchor=\"middle\" x=\"369.5\" y=\"-647.8\" font-family=\"Times,serif\" font-size=\"14.00\" fill=\"#000000\">release &lt;= 24.0</text>\n<text text-anchor=\"middle\" x=\"369.5\" y=\"-632.8\" font-family=\"Times,serif\" font-size=\"14.00\" fill=\"#000000\">gini = 0.375</text>\n<text text-anchor=\"middle\" x=\"369.5\" y=\"-617.8\" font-family=\"Times,serif\" font-size=\"14.00\" fill=\"#000000\">samples = 12</text>\n<text text-anchor=\"middle\" x=\"369.5\" y=\"-602.8\" font-family=\"Times,serif\" font-size=\"14.00\" fill=\"#000000\">value = [3, 9]</text>\n<text text-anchor=\"middle\" x=\"369.5\" y=\"-587.8\" font-family=\"Times,serif\" font-size=\"14.00\" fill=\"#000000\">class = ya</text>\n</g>\n<!-- 3&#45;&gt;5 -->\n<g id=\"edge5\" class=\"edge\">\n<title>3&#45;&gt;5</title>\n<path fill=\"none\" stroke=\"#000000\" d=\"M331.1353,-698.8796C335.3774,-690.3236 339.889,-681.2238 344.2721,-672.3833\"/>\n<polygon fill=\"#000000\" stroke=\"#000000\" points=\"347.4703,-673.8121 348.7766,-663.2981 341.1988,-670.7026 347.4703,-673.8121\"/>\n</g>\n<!-- 6 -->\n<g id=\"node7\" class=\"node\">\n<title>6</title>\n<polygon fill=\"#65b3eb\" stroke=\"#000000\" points=\"370.5,-544 234.5,-544 234.5,-461 370.5,-461 370.5,-544\"/>\n<text text-anchor=\"middle\" x=\"302.5\" y=\"-528.8\" font-family=\"Times,serif\" font-size=\"14.00\" fill=\"#000000\">harga &lt;= 1734000.0</text>\n<text text-anchor=\"middle\" x=\"302.5\" y=\"-513.8\" font-family=\"Times,serif\" font-size=\"14.00\" fill=\"#000000\">gini = 0.298</text>\n<text text-anchor=\"middle\" x=\"302.5\" y=\"-498.8\" font-family=\"Times,serif\" font-size=\"14.00\" fill=\"#000000\">samples = 11</text>\n<text text-anchor=\"middle\" x=\"302.5\" y=\"-483.8\" font-family=\"Times,serif\" font-size=\"14.00\" fill=\"#000000\">value = [2, 9]</text>\n<text text-anchor=\"middle\" x=\"302.5\" y=\"-468.8\" font-family=\"Times,serif\" font-size=\"14.00\" fill=\"#000000\">class = ya</text>\n</g>\n<!-- 5&#45;&gt;6 -->\n<g id=\"edge6\" class=\"edge\">\n<title>5&#45;&gt;6</title>\n<path fill=\"none\" stroke=\"#000000\" d=\"M346.0667,-579.8796C341.1987,-571.2335 336.0181,-562.0322 330.9914,-553.1042\"/>\n<polygon fill=\"#000000\" stroke=\"#000000\" points=\"333.9893,-551.2947 326.0334,-544.2981 327.8897,-554.729 333.9893,-551.2947\"/>\n</g>\n<!-- 17 -->\n<g id=\"node18\" class=\"node\">\n<title>17</title>\n<polygon fill=\"#e58139\" stroke=\"#000000\" points=\"484,-536.5 389,-536.5 389,-468.5 484,-468.5 484,-536.5\"/>\n<text text-anchor=\"middle\" x=\"436.5\" y=\"-521.3\" font-family=\"Times,serif\" font-size=\"14.00\" fill=\"#000000\">gini = 0.0</text>\n<text text-anchor=\"middle\" x=\"436.5\" y=\"-506.3\" font-family=\"Times,serif\" font-size=\"14.00\" fill=\"#000000\">samples = 1</text>\n<text text-anchor=\"middle\" x=\"436.5\" y=\"-491.3\" font-family=\"Times,serif\" font-size=\"14.00\" fill=\"#000000\">value = [1, 0]</text>\n<text text-anchor=\"middle\" x=\"436.5\" y=\"-476.3\" font-family=\"Times,serif\" font-size=\"14.00\" fill=\"#000000\">class = tidak</text>\n</g>\n<!-- 5&#45;&gt;17 -->\n<g id=\"edge17\" class=\"edge\">\n<title>5&#45;&gt;17</title>\n<path fill=\"none\" stroke=\"#000000\" d=\"M392.9333,-579.8796C399.1863,-568.7735 405.9552,-556.7513 412.251,-545.5691\"/>\n<polygon fill=\"#000000\" stroke=\"#000000\" points=\"415.3235,-547.2459 417.1798,-536.8149 409.2239,-543.8116 415.3235,-547.2459\"/>\n</g>\n<!-- 7 -->\n<g id=\"node8\" class=\"node\">\n<title>7</title>\n<polygon fill=\"#52a9e8\" stroke=\"#000000\" points=\"293.5,-425 189.5,-425 189.5,-342 293.5,-342 293.5,-425\"/>\n<text text-anchor=\"middle\" x=\"241.5\" y=\"-409.8\" font-family=\"Times,serif\" font-size=\"14.00\" fill=\"#000000\">release &lt;= 11.5</text>\n<text text-anchor=\"middle\" x=\"241.5\" y=\"-394.8\" font-family=\"Times,serif\" font-size=\"14.00\" fill=\"#000000\">gini = 0.198</text>\n<text text-anchor=\"middle\" x=\"241.5\" y=\"-379.8\" font-family=\"Times,serif\" font-size=\"14.00\" fill=\"#000000\">samples = 9</text>\n<text text-anchor=\"middle\" x=\"241.5\" y=\"-364.8\" font-family=\"Times,serif\" font-size=\"14.00\" fill=\"#000000\">value = [1, 8]</text>\n<text text-anchor=\"middle\" x=\"241.5\" y=\"-349.8\" font-family=\"Times,serif\" font-size=\"14.00\" fill=\"#000000\">class = ya</text>\n</g>\n<!-- 6&#45;&gt;7 -->\n<g id=\"edge7\" class=\"edge\">\n<title>6&#45;&gt;7</title>\n<path fill=\"none\" stroke=\"#000000\" d=\"M281.1652,-460.8796C276.7793,-452.3236 272.1147,-443.2238 267.583,-434.3833\"/>\n<polygon fill=\"#000000\" stroke=\"#000000\" points=\"270.6022,-432.6004 262.9259,-425.2981 264.373,-435.7936 270.6022,-432.6004\"/>\n</g>\n<!-- 14 -->\n<g id=\"node15\" class=\"node\">\n<title>14</title>\n<polygon fill=\"#ffffff\" stroke=\"#000000\" points=\"415.5,-425 311.5,-425 311.5,-342 415.5,-342 415.5,-425\"/>\n<text text-anchor=\"middle\" x=\"363.5\" y=\"-409.8\" font-family=\"Times,serif\" font-size=\"14.00\" fill=\"#000000\">release &lt;= 19.0</text>\n<text text-anchor=\"middle\" x=\"363.5\" y=\"-394.8\" font-family=\"Times,serif\" font-size=\"14.00\" fill=\"#000000\">gini = 0.5</text>\n<text text-anchor=\"middle\" x=\"363.5\" y=\"-379.8\" font-family=\"Times,serif\" font-size=\"14.00\" fill=\"#000000\">samples = 2</text>\n<text text-anchor=\"middle\" x=\"363.5\" y=\"-364.8\" font-family=\"Times,serif\" font-size=\"14.00\" fill=\"#000000\">value = [1, 1]</text>\n<text text-anchor=\"middle\" x=\"363.5\" y=\"-349.8\" font-family=\"Times,serif\" font-size=\"14.00\" fill=\"#000000\">class = tidak</text>\n</g>\n<!-- 6&#45;&gt;14 -->\n<g id=\"edge14\" class=\"edge\">\n<title>6&#45;&gt;14</title>\n<path fill=\"none\" stroke=\"#000000\" d=\"M323.8348,-460.8796C328.2207,-452.3236 332.8853,-443.2238 337.417,-434.3833\"/>\n<polygon fill=\"#000000\" stroke=\"#000000\" points=\"340.627,-435.7936 342.0741,-425.2981 334.3978,-432.6004 340.627,-435.7936\"/>\n</g>\n<!-- 8 -->\n<g id=\"node9\" class=\"node\">\n<title>8</title>\n<polygon fill=\"#9ccef2\" stroke=\"#000000\" points=\"178.5,-306 50.5,-306 50.5,-223 178.5,-223 178.5,-306\"/>\n<text text-anchor=\"middle\" x=\"114.5\" y=\"-290.8\" font-family=\"Times,serif\" font-size=\"14.00\" fill=\"#000000\">harga &lt;= 841500.0</text>\n<text text-anchor=\"middle\" x=\"114.5\" y=\"-275.8\" font-family=\"Times,serif\" font-size=\"14.00\" fill=\"#000000\">gini = 0.444</text>\n<text text-anchor=\"middle\" x=\"114.5\" y=\"-260.8\" font-family=\"Times,serif\" font-size=\"14.00\" fill=\"#000000\">samples = 3</text>\n<text text-anchor=\"middle\" x=\"114.5\" y=\"-245.8\" font-family=\"Times,serif\" font-size=\"14.00\" fill=\"#000000\">value = [1, 2]</text>\n<text text-anchor=\"middle\" x=\"114.5\" y=\"-230.8\" font-family=\"Times,serif\" font-size=\"14.00\" fill=\"#000000\">class = ya</text>\n</g>\n<!-- 7&#45;&gt;8 -->\n<g id=\"edge8\" class=\"edge\">\n<title>7&#45;&gt;8</title>\n<path fill=\"none\" stroke=\"#000000\" d=\"M197.0816,-341.8796C187.1814,-332.6031 176.5991,-322.6874 166.4269,-313.1559\"/>\n<polygon fill=\"#000000\" stroke=\"#000000\" points=\"168.7984,-310.5816 159.108,-306.2981 164.0121,-315.6896 168.7984,-310.5816\"/>\n</g>\n<!-- 13 -->\n<g id=\"node14\" class=\"node\">\n<title>13</title>\n<polygon fill=\"#399de5\" stroke=\"#000000\" points=\"292,-298.5 197,-298.5 197,-230.5 292,-230.5 292,-298.5\"/>\n<text text-anchor=\"middle\" x=\"244.5\" y=\"-283.3\" font-family=\"Times,serif\" font-size=\"14.00\" fill=\"#000000\">gini = 0.0</text>\n<text text-anchor=\"middle\" x=\"244.5\" y=\"-268.3\" font-family=\"Times,serif\" font-size=\"14.00\" fill=\"#000000\">samples = 6</text>\n<text text-anchor=\"middle\" x=\"244.5\" y=\"-253.3\" font-family=\"Times,serif\" font-size=\"14.00\" fill=\"#000000\">value = [0, 6]</text>\n<text text-anchor=\"middle\" x=\"244.5\" y=\"-238.3\" font-family=\"Times,serif\" font-size=\"14.00\" fill=\"#000000\">class = ya</text>\n</g>\n<!-- 7&#45;&gt;13 -->\n<g id=\"edge13\" class=\"edge\">\n<title>7&#45;&gt;13</title>\n<path fill=\"none\" stroke=\"#000000\" d=\"M242.5493,-341.8796C242.8182,-331.2134 243.1084,-319.7021 243.3806,-308.9015\"/>\n<polygon fill=\"#000000\" stroke=\"#000000\" points=\"246.8817,-308.9 243.6349,-298.8149 239.8839,-308.7235 246.8817,-308.9\"/>\n</g>\n<!-- 9 -->\n<g id=\"node10\" class=\"node\">\n<title>9</title>\n<polygon fill=\"#399de5\" stroke=\"#000000\" points=\"95,-179.5 0,-179.5 0,-111.5 95,-111.5 95,-179.5\"/>\n<text text-anchor=\"middle\" x=\"47.5\" y=\"-164.3\" font-family=\"Times,serif\" font-size=\"14.00\" fill=\"#000000\">gini = 0.0</text>\n<text text-anchor=\"middle\" x=\"47.5\" y=\"-149.3\" font-family=\"Times,serif\" font-size=\"14.00\" fill=\"#000000\">samples = 1</text>\n<text text-anchor=\"middle\" x=\"47.5\" y=\"-134.3\" font-family=\"Times,serif\" font-size=\"14.00\" fill=\"#000000\">value = [0, 1]</text>\n<text text-anchor=\"middle\" x=\"47.5\" y=\"-119.3\" font-family=\"Times,serif\" font-size=\"14.00\" fill=\"#000000\">class = ya</text>\n</g>\n<!-- 8&#45;&gt;9 -->\n<g id=\"edge9\" class=\"edge\">\n<title>8&#45;&gt;9</title>\n<path fill=\"none\" stroke=\"#000000\" d=\"M91.0667,-222.8796C84.8137,-211.7735 78.0448,-199.7513 71.749,-188.5691\"/>\n<polygon fill=\"#000000\" stroke=\"#000000\" points=\"74.7761,-186.8116 66.8202,-179.8149 68.6765,-190.2459 74.7761,-186.8116\"/>\n</g>\n<!-- 10 -->\n<g id=\"node11\" class=\"node\">\n<title>10</title>\n<polygon fill=\"#ffffff\" stroke=\"#000000\" points=\"249.5,-187 113.5,-187 113.5,-104 249.5,-104 249.5,-187\"/>\n<text text-anchor=\"middle\" x=\"181.5\" y=\"-171.8\" font-family=\"Times,serif\" font-size=\"14.00\" fill=\"#000000\">harga &lt;= 1372000.0</text>\n<text text-anchor=\"middle\" x=\"181.5\" y=\"-156.8\" font-family=\"Times,serif\" font-size=\"14.00\" fill=\"#000000\">gini = 0.5</text>\n<text text-anchor=\"middle\" x=\"181.5\" y=\"-141.8\" font-family=\"Times,serif\" font-size=\"14.00\" fill=\"#000000\">samples = 2</text>\n<text text-anchor=\"middle\" x=\"181.5\" y=\"-126.8\" font-family=\"Times,serif\" font-size=\"14.00\" fill=\"#000000\">value = [1, 1]</text>\n<text text-anchor=\"middle\" x=\"181.5\" y=\"-111.8\" font-family=\"Times,serif\" font-size=\"14.00\" fill=\"#000000\">class = tidak</text>\n</g>\n<!-- 8&#45;&gt;10 -->\n<g id=\"edge10\" class=\"edge\">\n<title>8&#45;&gt;10</title>\n<path fill=\"none\" stroke=\"#000000\" d=\"M137.9333,-222.8796C142.8013,-214.2335 147.9819,-205.0322 153.0086,-196.1042\"/>\n<polygon fill=\"#000000\" stroke=\"#000000\" points=\"156.1103,-197.729 157.9666,-187.2981 150.0107,-194.2947 156.1103,-197.729\"/>\n</g>\n<!-- 11 -->\n<g id=\"node12\" class=\"node\">\n<title>11</title>\n<polygon fill=\"#e58139\" stroke=\"#000000\" points=\"172,-68 77,-68 77,0 172,0 172,-68\"/>\n<text text-anchor=\"middle\" x=\"124.5\" y=\"-52.8\" font-family=\"Times,serif\" font-size=\"14.00\" fill=\"#000000\">gini = 0.0</text>\n<text text-anchor=\"middle\" x=\"124.5\" y=\"-37.8\" font-family=\"Times,serif\" font-size=\"14.00\" fill=\"#000000\">samples = 1</text>\n<text text-anchor=\"middle\" x=\"124.5\" y=\"-22.8\" font-family=\"Times,serif\" font-size=\"14.00\" fill=\"#000000\">value = [1, 0]</text>\n<text text-anchor=\"middle\" x=\"124.5\" y=\"-7.8\" font-family=\"Times,serif\" font-size=\"14.00\" fill=\"#000000\">class = tidak</text>\n</g>\n<!-- 10&#45;&gt;11 -->\n<g id=\"edge11\" class=\"edge\">\n<title>10&#45;&gt;11</title>\n<path fill=\"none\" stroke=\"#000000\" d=\"M160.2753,-103.9815C155.8119,-95.2504 151.0933,-86.0202 146.5987,-77.2281\"/>\n<polygon fill=\"#000000\" stroke=\"#000000\" points=\"149.6842,-75.5745 142.016,-68.2637 143.4514,-78.7608 149.6842,-75.5745\"/>\n</g>\n<!-- 12 -->\n<g id=\"node13\" class=\"node\">\n<title>12</title>\n<polygon fill=\"#399de5\" stroke=\"#000000\" points=\"285,-68 190,-68 190,0 285,0 285,-68\"/>\n<text text-anchor=\"middle\" x=\"237.5\" y=\"-52.8\" font-family=\"Times,serif\" font-size=\"14.00\" fill=\"#000000\">gini = 0.0</text>\n<text text-anchor=\"middle\" x=\"237.5\" y=\"-37.8\" font-family=\"Times,serif\" font-size=\"14.00\" fill=\"#000000\">samples = 1</text>\n<text text-anchor=\"middle\" x=\"237.5\" y=\"-22.8\" font-family=\"Times,serif\" font-size=\"14.00\" fill=\"#000000\">value = [0, 1]</text>\n<text text-anchor=\"middle\" x=\"237.5\" y=\"-7.8\" font-family=\"Times,serif\" font-size=\"14.00\" fill=\"#000000\">class = ya</text>\n</g>\n<!-- 10&#45;&gt;12 -->\n<g id=\"edge12\" class=\"edge\">\n<title>10&#45;&gt;12</title>\n<path fill=\"none\" stroke=\"#000000\" d=\"M202.3523,-103.9815C206.7375,-95.2504 211.3733,-86.0202 215.789,-77.2281\"/>\n<polygon fill=\"#000000\" stroke=\"#000000\" points=\"218.9308,-78.7708 220.2913,-68.2637 212.6754,-75.6291 218.9308,-78.7708\"/>\n</g>\n<!-- 15 -->\n<g id=\"node16\" class=\"node\">\n<title>15</title>\n<polygon fill=\"#e58139\" stroke=\"#000000\" points=\"409,-298.5 314,-298.5 314,-230.5 409,-230.5 409,-298.5\"/>\n<text text-anchor=\"middle\" x=\"361.5\" y=\"-283.3\" font-family=\"Times,serif\" font-size=\"14.00\" fill=\"#000000\">gini = 0.0</text>\n<text text-anchor=\"middle\" x=\"361.5\" y=\"-268.3\" font-family=\"Times,serif\" font-size=\"14.00\" fill=\"#000000\">samples = 1</text>\n<text text-anchor=\"middle\" x=\"361.5\" y=\"-253.3\" font-family=\"Times,serif\" font-size=\"14.00\" fill=\"#000000\">value = [1, 0]</text>\n<text text-anchor=\"middle\" x=\"361.5\" y=\"-238.3\" font-family=\"Times,serif\" font-size=\"14.00\" fill=\"#000000\">class = tidak</text>\n</g>\n<!-- 14&#45;&gt;15 -->\n<g id=\"edge15\" class=\"edge\">\n<title>14&#45;&gt;15</title>\n<path fill=\"none\" stroke=\"#000000\" d=\"M362.8005,-341.8796C362.6212,-331.2134 362.4278,-319.7021 362.2462,-308.9015\"/>\n<polygon fill=\"#000000\" stroke=\"#000000\" points=\"365.7444,-308.7547 362.0767,-298.8149 358.7454,-308.8724 365.7444,-308.7547\"/>\n</g>\n<!-- 16 -->\n<g id=\"node17\" class=\"node\">\n<title>16</title>\n<polygon fill=\"#399de5\" stroke=\"#000000\" points=\"522,-298.5 427,-298.5 427,-230.5 522,-230.5 522,-298.5\"/>\n<text text-anchor=\"middle\" x=\"474.5\" y=\"-283.3\" font-family=\"Times,serif\" font-size=\"14.00\" fill=\"#000000\">gini = 0.0</text>\n<text text-anchor=\"middle\" x=\"474.5\" y=\"-268.3\" font-family=\"Times,serif\" font-size=\"14.00\" fill=\"#000000\">samples = 1</text>\n<text text-anchor=\"middle\" x=\"474.5\" y=\"-253.3\" font-family=\"Times,serif\" font-size=\"14.00\" fill=\"#000000\">value = [0, 1]</text>\n<text text-anchor=\"middle\" x=\"474.5\" y=\"-238.3\" font-family=\"Times,serif\" font-size=\"14.00\" fill=\"#000000\">class = ya</text>\n</g>\n<!-- 14&#45;&gt;16 -->\n<g id=\"edge16\" class=\"edge\">\n<title>14&#45;&gt;16</title>\n<path fill=\"none\" stroke=\"#000000\" d=\"M402.3224,-341.8796C413.0921,-330.3337 424.7854,-317.7976 435.5617,-306.2446\"/>\n<polygon fill=\"#000000\" stroke=\"#000000\" points=\"438.2303,-308.5149 442.492,-298.8149 433.1115,-303.7402 438.2303,-308.5149\"/>\n</g>\n<!-- 20 -->\n<g id=\"node21\" class=\"node\">\n<title>20</title>\n<polygon fill=\"#399de5\" stroke=\"#000000\" points=\"592.5,-774.5 490.5,-774.5 490.5,-706.5 592.5,-706.5 592.5,-774.5\"/>\n<text text-anchor=\"middle\" x=\"541.5\" y=\"-759.3\" font-family=\"Times,serif\" font-size=\"14.00\" fill=\"#000000\">gini = 0.0</text>\n<text text-anchor=\"middle\" x=\"541.5\" y=\"-744.3\" font-family=\"Times,serif\" font-size=\"14.00\" fill=\"#000000\">samples = 10</text>\n<text text-anchor=\"middle\" x=\"541.5\" y=\"-729.3\" font-family=\"Times,serif\" font-size=\"14.00\" fill=\"#000000\">value = [0, 10]</text>\n<text text-anchor=\"middle\" x=\"541.5\" y=\"-714.3\" font-family=\"Times,serif\" font-size=\"14.00\" fill=\"#000000\">class = ya</text>\n</g>\n<!-- 19&#45;&gt;20 -->\n<g id=\"edge20\" class=\"edge\">\n<title>19&#45;&gt;20</title>\n<path fill=\"none\" stroke=\"#000000\" d=\"M587.0174,-817.8796C580.4844,-806.7735 573.4125,-794.7513 566.8348,-783.5691\"/>\n<polygon fill=\"#000000\" stroke=\"#000000\" points=\"569.7723,-781.6597 561.6853,-774.8149 563.7387,-785.2089 569.7723,-781.6597\"/>\n</g>\n<!-- 21 -->\n<g id=\"node22\" class=\"node\">\n<title>21</title>\n<polygon fill=\"#72b9ec\" stroke=\"#000000\" points=\"738.5,-782 610.5,-782 610.5,-699 738.5,-699 738.5,-782\"/>\n<text text-anchor=\"middle\" x=\"674.5\" y=\"-766.8\" font-family=\"Times,serif\" font-size=\"14.00\" fill=\"#000000\">harga &lt;= 535000.0</text>\n<text text-anchor=\"middle\" x=\"674.5\" y=\"-751.8\" font-family=\"Times,serif\" font-size=\"14.00\" fill=\"#000000\">gini = 0.346</text>\n<text text-anchor=\"middle\" x=\"674.5\" y=\"-736.8\" font-family=\"Times,serif\" font-size=\"14.00\" fill=\"#000000\">samples = 9</text>\n<text text-anchor=\"middle\" x=\"674.5\" y=\"-721.8\" font-family=\"Times,serif\" font-size=\"14.00\" fill=\"#000000\">value = [2, 7]</text>\n<text text-anchor=\"middle\" x=\"674.5\" y=\"-706.8\" font-family=\"Times,serif\" font-size=\"14.00\" fill=\"#000000\">class = ya</text>\n</g>\n<!-- 19&#45;&gt;21 -->\n<g id=\"edge21\" class=\"edge\">\n<title>19&#45;&gt;21</title>\n<path fill=\"none\" stroke=\"#000000\" d=\"M633.5343,-817.8796C638.064,-809.3236 642.8815,-800.2238 647.5618,-791.3833\"/>\n<polygon fill=\"#000000\" stroke=\"#000000\" points=\"650.7859,-792.7736 652.3716,-782.2981 644.5994,-789.4983 650.7859,-792.7736\"/>\n</g>\n<!-- 22 -->\n<g id=\"node23\" class=\"node\">\n<title>22</title>\n<polygon fill=\"#399de5\" stroke=\"#000000\" points=\"665,-655.5 570,-655.5 570,-587.5 665,-587.5 665,-655.5\"/>\n<text text-anchor=\"middle\" x=\"617.5\" y=\"-640.3\" font-family=\"Times,serif\" font-size=\"14.00\" fill=\"#000000\">gini = 0.0</text>\n<text text-anchor=\"middle\" x=\"617.5\" y=\"-625.3\" font-family=\"Times,serif\" font-size=\"14.00\" fill=\"#000000\">samples = 7</text>\n<text text-anchor=\"middle\" x=\"617.5\" y=\"-610.3\" font-family=\"Times,serif\" font-size=\"14.00\" fill=\"#000000\">value = [0, 7]</text>\n<text text-anchor=\"middle\" x=\"617.5\" y=\"-595.3\" font-family=\"Times,serif\" font-size=\"14.00\" fill=\"#000000\">class = ya</text>\n</g>\n<!-- 21&#45;&gt;22 -->\n<g id=\"edge22\" class=\"edge\">\n<title>21&#45;&gt;22</title>\n<path fill=\"none\" stroke=\"#000000\" d=\"M654.5642,-698.8796C649.2971,-687.8835 643.5999,-675.9893 638.289,-664.9015\"/>\n<polygon fill=\"#000000\" stroke=\"#000000\" points=\"641.4131,-663.3217 633.9366,-655.8149 635.1,-666.3457 641.4131,-663.3217\"/>\n</g>\n<!-- 23 -->\n<g id=\"node24\" class=\"node\">\n<title>23</title>\n<polygon fill=\"#e58139\" stroke=\"#000000\" points=\"778,-655.5 683,-655.5 683,-587.5 778,-587.5 778,-655.5\"/>\n<text text-anchor=\"middle\" x=\"730.5\" y=\"-640.3\" font-family=\"Times,serif\" font-size=\"14.00\" fill=\"#000000\">gini = 0.0</text>\n<text text-anchor=\"middle\" x=\"730.5\" y=\"-625.3\" font-family=\"Times,serif\" font-size=\"14.00\" fill=\"#000000\">samples = 2</text>\n<text text-anchor=\"middle\" x=\"730.5\" y=\"-610.3\" font-family=\"Times,serif\" font-size=\"14.00\" fill=\"#000000\">value = [2, 0]</text>\n<text text-anchor=\"middle\" x=\"730.5\" y=\"-595.3\" font-family=\"Times,serif\" font-size=\"14.00\" fill=\"#000000\">class = tidak</text>\n</g>\n<!-- 21&#45;&gt;23 -->\n<g id=\"edge23\" class=\"edge\">\n<title>21&#45;&gt;23</title>\n<path fill=\"none\" stroke=\"#000000\" d=\"M694.0861,-698.8796C699.2607,-687.8835 704.858,-675.9893 710.0758,-664.9015\"/>\n<polygon fill=\"#000000\" stroke=\"#000000\" points=\"713.2606,-666.3534 714.3518,-655.8149 706.9269,-663.3728 713.2606,-666.3534\"/>\n</g>\n<!-- 25 -->\n<g id=\"node26\" class=\"node\">\n<title>25</title>\n<polygon fill=\"#eca06a\" stroke=\"#000000\" points=\"856.5,-901 752.5,-901 752.5,-818 856.5,-818 856.5,-901\"/>\n<text text-anchor=\"middle\" x=\"804.5\" y=\"-885.8\" font-family=\"Times,serif\" font-size=\"14.00\" fill=\"#000000\">release &lt;= 16.5</text>\n<text text-anchor=\"middle\" x=\"804.5\" y=\"-870.8\" font-family=\"Times,serif\" font-size=\"14.00\" fill=\"#000000\">gini = 0.32</text>\n<text text-anchor=\"middle\" x=\"804.5\" y=\"-855.8\" font-family=\"Times,serif\" font-size=\"14.00\" fill=\"#000000\">samples = 10</text>\n<text text-anchor=\"middle\" x=\"804.5\" y=\"-840.8\" font-family=\"Times,serif\" font-size=\"14.00\" fill=\"#000000\">value = [8, 2]</text>\n<text text-anchor=\"middle\" x=\"804.5\" y=\"-825.8\" font-family=\"Times,serif\" font-size=\"14.00\" fill=\"#000000\">class = tidak</text>\n</g>\n<!-- 24&#45;&gt;25 -->\n<g id=\"edge25\" class=\"edge\">\n<title>24&#45;&gt;25</title>\n<path fill=\"none\" stroke=\"#000000\" d=\"M804.5,-936.8796C804.5,-928.6838 804.5,-919.9891 804.5,-911.5013\"/>\n<polygon fill=\"#000000\" stroke=\"#000000\" points=\"808.0001,-911.298 804.5,-901.2981 801.0001,-911.2981 808.0001,-911.298\"/>\n</g>\n<!-- 28 -->\n<g id=\"node29\" class=\"node\">\n<title>28</title>\n<polygon fill=\"#e58139\" stroke=\"#000000\" points=\"970,-893.5 875,-893.5 875,-825.5 970,-825.5 970,-893.5\"/>\n<text text-anchor=\"middle\" x=\"922.5\" y=\"-878.3\" font-family=\"Times,serif\" font-size=\"14.00\" fill=\"#000000\">gini = 0.0</text>\n<text text-anchor=\"middle\" x=\"922.5\" y=\"-863.3\" font-family=\"Times,serif\" font-size=\"14.00\" fill=\"#000000\">samples = 9</text>\n<text text-anchor=\"middle\" x=\"922.5\" y=\"-848.3\" font-family=\"Times,serif\" font-size=\"14.00\" fill=\"#000000\">value = [9, 0]</text>\n<text text-anchor=\"middle\" x=\"922.5\" y=\"-833.3\" font-family=\"Times,serif\" font-size=\"14.00\" fill=\"#000000\">class = tidak</text>\n</g>\n<!-- 24&#45;&gt;28 -->\n<g id=\"edge28\" class=\"edge\">\n<title>24&#45;&gt;28</title>\n<path fill=\"none\" stroke=\"#000000\" d=\"M845.7707,-936.8796C857.2195,-925.3337 869.6503,-912.7976 881.1062,-901.2446\"/>\n<polygon fill=\"#000000\" stroke=\"#000000\" points=\"883.9175,-903.3802 888.4734,-893.8149 878.9469,-898.4514 883.9175,-903.3802\"/>\n</g>\n<!-- 26 -->\n<g id=\"node27\" class=\"node\">\n<title>26</title>\n<polygon fill=\"#e58139\" stroke=\"#000000\" points=\"852,-774.5 757,-774.5 757,-706.5 852,-706.5 852,-774.5\"/>\n<text text-anchor=\"middle\" x=\"804.5\" y=\"-759.3\" font-family=\"Times,serif\" font-size=\"14.00\" fill=\"#000000\">gini = 0.0</text>\n<text text-anchor=\"middle\" x=\"804.5\" y=\"-744.3\" font-family=\"Times,serif\" font-size=\"14.00\" fill=\"#000000\">samples = 8</text>\n<text text-anchor=\"middle\" x=\"804.5\" y=\"-729.3\" font-family=\"Times,serif\" font-size=\"14.00\" fill=\"#000000\">value = [8, 0]</text>\n<text text-anchor=\"middle\" x=\"804.5\" y=\"-714.3\" font-family=\"Times,serif\" font-size=\"14.00\" fill=\"#000000\">class = tidak</text>\n</g>\n<!-- 25&#45;&gt;26 -->\n<g id=\"edge26\" class=\"edge\">\n<title>25&#45;&gt;26</title>\n<path fill=\"none\" stroke=\"#000000\" d=\"M804.5,-817.8796C804.5,-807.2134 804.5,-795.7021 804.5,-784.9015\"/>\n<polygon fill=\"#000000\" stroke=\"#000000\" points=\"808.0001,-784.8149 804.5,-774.8149 801.0001,-784.815 808.0001,-784.8149\"/>\n</g>\n<!-- 27 -->\n<g id=\"node28\" class=\"node\">\n<title>27</title>\n<polygon fill=\"#399de5\" stroke=\"#000000\" points=\"965,-774.5 870,-774.5 870,-706.5 965,-706.5 965,-774.5\"/>\n<text text-anchor=\"middle\" x=\"917.5\" y=\"-759.3\" font-family=\"Times,serif\" font-size=\"14.00\" fill=\"#000000\">gini = 0.0</text>\n<text text-anchor=\"middle\" x=\"917.5\" y=\"-744.3\" font-family=\"Times,serif\" font-size=\"14.00\" fill=\"#000000\">samples = 2</text>\n<text text-anchor=\"middle\" x=\"917.5\" y=\"-729.3\" font-family=\"Times,serif\" font-size=\"14.00\" fill=\"#000000\">value = [0, 2]</text>\n<text text-anchor=\"middle\" x=\"917.5\" y=\"-714.3\" font-family=\"Times,serif\" font-size=\"14.00\" fill=\"#000000\">class = ya</text>\n</g>\n<!-- 25&#45;&gt;27 -->\n<g id=\"edge27\" class=\"edge\">\n<title>25&#45;&gt;27</title>\n<path fill=\"none\" stroke=\"#000000\" d=\"M844.0219,-817.8796C854.9857,-806.3337 866.8897,-793.7976 877.8601,-782.2446\"/>\n<polygon fill=\"#000000\" stroke=\"#000000\" points=\"880.5673,-784.4766 884.9152,-774.8149 875.4913,-779.6564 880.5673,-784.4766\"/>\n</g>\n</g>\n</svg>\n"
          },
          "metadata": {
            "tags": []
          },
          "execution_count": 127
        }
      ]
    },
    {
      "cell_type": "markdown",
      "metadata": {
        "id": "J2lGLs71d5Jj"
      },
      "source": [
        "5.2 Evaluasi Model/Testing"
      ]
    },
    {
      "cell_type": "code",
      "metadata": {
        "colab": {
          "base_uri": "https://localhost:8080/"
        },
        "id": "AzL8f5wceH4U",
        "outputId": "3f175abd-6567-4878-902a-7459fe9448cf"
      },
      "source": [
        "from sklearn.metrics import classification_report\n",
        "from sklearn.metrics import accuracy_score\n",
        "from sklearn.metrics import confusion_matrix\n",
        "\n",
        "Y_pred = model.predict(X_test) #yang di predik X test kumpulan test\n",
        "\n",
        "#hitung akurasi\n",
        "#Y test = kunci jawabannya\n",
        "#Y pred akurasinya\n",
        "acc = accuracy_score(Y_test, Y_pred) \n",
        "print(\"Akurasi {}\". format(acc))\n",
        "print()\n",
        "print(\"Classification Report: \")\n",
        "print(classification_report(Y_test, Y_pred))\n",
        "\n",
        "print(\"Confusion Matrix: \")\n",
        "confusion_matrix(Y_test, Y_pred)"
      ],
      "execution_count": null,
      "outputs": [
        {
          "output_type": "stream",
          "text": [
            "Akurasi 0.8333333333333334\n",
            "\n",
            "Classification Report: \n",
            "              precision    recall  f1-score   support\n",
            "\n",
            "           0       0.83      0.83      0.83        12\n",
            "           1       0.83      0.83      0.83        12\n",
            "\n",
            "    accuracy                           0.83        24\n",
            "   macro avg       0.83      0.83      0.83        24\n",
            "weighted avg       0.83      0.83      0.83        24\n",
            "\n",
            "Confusion Matrix: \n"
          ],
          "name": "stdout"
        },
        {
          "output_type": "execute_result",
          "data": {
            "text/plain": [
              "array([[10,  2],\n",
              "       [ 2, 10]])"
            ]
          },
          "metadata": {
            "tags": []
          },
          "execution_count": 128
        }
      ]
    },
    {
      "cell_type": "code",
      "metadata": {
        "colab": {
          "base_uri": "https://localhost:8080/"
        },
        "id": "bHxobMInexHl",
        "outputId": "ec0f0dae-afbf-4fb7-f61e-4f802b0930db"
      },
      "source": [
        "res = Y_pred == Y_test\n",
        "print(Y_pred)\n",
        "print(Y_test)"
      ],
      "execution_count": null,
      "outputs": [
        {
          "output_type": "stream",
          "text": [
            "[1 0 1 0 1 1 1 0 1 0 1 0 0 0 1 1 0 1 0 0 0 1 1 0]\n",
            "[1 0 1 1 1 1 1 0 0 1 1 0 0 0 1 1 0 1 0 0 0 0 1 0]\n"
          ],
          "name": "stdout"
        }
      ]
    },
    {
      "cell_type": "code",
      "metadata": {
        "colab": {
          "base_uri": "https://localhost:8080/"
        },
        "id": "1gM-8WJlfNUE",
        "outputId": "af52cdb8-5cb8-491f-e06c-62257f264fe3"
      },
      "source": [
        "akurasi = sum(res)/len(Y_test) #yang error\n",
        "akurasi"
      ],
      "execution_count": null,
      "outputs": [
        {
          "output_type": "execute_result",
          "data": {
            "text/plain": [
              "0.8333333333333334"
            ]
          },
          "metadata": {
            "tags": []
          },
          "execution_count": 130
        }
      ]
    }
  ]
}